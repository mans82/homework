{
 "cells": [
  {
   "cell_type": "markdown",
   "id": "d8b8723a",
   "metadata": {},
   "source": [
    "# Question 4\n",
    "*Amir Hossein Mansoori - 99243069*\n",
    "\n",
    "Import the required modules:"
   ]
  },
  {
   "cell_type": "code",
   "execution_count": 34,
   "id": "69b77b25",
   "metadata": {},
   "outputs": [],
   "source": [
    "import pandas as pd\n",
    "import matplotlib.pyplot as plt\n",
    "from datetime import date"
   ]
  },
  {
   "cell_type": "markdown",
   "id": "369ce460",
   "metadata": {},
   "source": [
    "Load the data:"
   ]
  },
  {
   "cell_type": "code",
   "execution_count": 35,
   "id": "69dd7539",
   "metadata": {},
   "outputs": [],
   "source": [
    "laliga_matches = pd.read_csv('LaLiga_Matches_1995-2021.csv')"
   ]
  },
  {
   "cell_type": "markdown",
   "id": "fed4acad",
   "metadata": {},
   "source": [
    "Count the number of matches that has took place on Friday 13th, and also number of matches among those, in which home team won the match:"
   ]
  },
  {
   "cell_type": "code",
   "execution_count": 36,
   "id": "0fc5ac1d",
   "metadata": {},
   "outputs": [],
   "source": [
    "matches_on_friday_13th = 0\n",
    "matches_on_friday_13th_that_home_wins = 0"
   ]
  },
  {
   "cell_type": "markdown",
   "id": "431af5ce",
   "metadata": {},
   "source": [
    "To find out whether a certain day was Friday, use Python `datetime.date` module, which was previously imported:"
   ]
  },
  {
   "cell_type": "code",
   "execution_count": 37,
   "id": "6414dcff",
   "metadata": {},
   "outputs": [],
   "source": [
    "for index, row in laliga_matches.iterrows():\n",
    "    match_date_string = row['Date']\n",
    "    result = row['FTR']\n",
    "    \n",
    "    match_day, match_month, match_year = map(int, match_date_string.split('/'))\n",
    "    match_date = date(match_year, match_month, match_day)\n",
    "    \n",
    "    if match_date.weekday() == 4 and match_date.day == 13:\n",
    "        matches_on_friday_13th += 1\n",
    "        if result == 'H':\n",
    "            matches_on_friday_13th_that_home_wins += 1\n"
   ]
  },
  {
   "cell_type": "markdown",
   "id": "dac949a7",
   "metadata": {},
   "source": [
    "Dividing counted numbers should yield probablity of winning the match for home teams:"
   ]
  },
  {
   "cell_type": "code",
   "execution_count": 38,
   "id": "a87c524e",
   "metadata": {},
   "outputs": [
    {
     "name": "stdout",
     "output_type": "stream",
     "text": [
      "25.0%\n"
     ]
    }
   ],
   "source": [
    "print(f\"{(matches_on_friday_13th_that_home_wins / matches_on_friday_13th) * 100}%\")"
   ]
  },
  {
   "cell_type": "markdown",
   "id": "e1fab4ef",
   "metadata": {},
   "source": [
    "which shows that Friday 13th has been indeed unlucky for home teams!"
   ]
  }
 ],
 "metadata": {
  "kernelspec": {
   "display_name": "Python 3 (ipykernel)",
   "language": "python",
   "name": "python3"
  },
  "language_info": {
   "codemirror_mode": {
    "name": "ipython",
    "version": 3
   },
   "file_extension": ".py",
   "mimetype": "text/x-python",
   "name": "python",
   "nbconvert_exporter": "python",
   "pygments_lexer": "ipython3",
   "version": "3.9.7"
  }
 },
 "nbformat": 4,
 "nbformat_minor": 5
}
