{
 "cells": [
  {
   "cell_type": "markdown",
   "id": "1c5a8ba8",
   "metadata": {},
   "source": [
    "# Question 1\n",
    "*Amir Hossein Mansoori - 99243069*\n",
    "\n",
    "Import required modules:"
   ]
  },
  {
   "cell_type": "code",
   "execution_count": 144,
   "id": "9431142d",
   "metadata": {},
   "outputs": [],
   "source": [
    "import pandas as pd\n",
    "import numpy as np\n",
    "import matplotlib.pyplot as plt"
   ]
  },
  {
   "cell_type": "markdown",
   "id": "1636e15c",
   "metadata": {},
   "source": [
    "Load the dataset:"
   ]
  },
  {
   "cell_type": "code",
   "execution_count": 145,
   "id": "54d75fbb",
   "metadata": {},
   "outputs": [],
   "source": [
    "laliga_matches = pd.read_csv('LaLiga_Matches_1995-2021.csv')"
   ]
  },
  {
   "cell_type": "markdown",
   "id": "149c1b75",
   "metadata": {},
   "source": [
    "Get all the seasons:"
   ]
  },
  {
   "cell_type": "code",
   "execution_count": 146,
   "id": "6b93fee9",
   "metadata": {},
   "outputs": [],
   "source": [
    "seasons = laliga_matches['Season'].unique()"
   ]
  },
  {
   "cell_type": "markdown",
   "id": "db788b3e",
   "metadata": {},
   "source": [
    "For every season, filter the dataset to only contain match records for that season. Then go through all records and calculate scores of all teams in that season. Finally, add the team with maximum score to the champaions list:"
   ]
  },
  {
   "cell_type": "code",
   "execution_count": 147,
   "id": "4ae72fcd",
   "metadata": {},
   "outputs": [],
   "source": [
    "champions = {}\n",
    "\n",
    "for season in seasons:\n",
    "    matches_in_current_season = laliga_matches.loc[laliga_matches['Season'] == season]\n",
    "    teams_scores = {}\n",
    "    goal_diff = {}\n",
    "    \n",
    "    for index, row in matches_in_current_season.iterrows():\n",
    "        home_team = row['HomeTeam']\n",
    "        away_team = row['AwayTeam']\n",
    "        home_team_goals = row['FTHG']\n",
    "        away_team_goals = row['FTAG']\n",
    "        result = row['FTR']\n",
    "        \n",
    "        if home_team not in teams_scores:\n",
    "            teams_scores[home_team] = 0\n",
    "        if home_team not in goal_diff:\n",
    "            goal_diff[home_team] = 0\n",
    "        if away_team not in teams_scores:\n",
    "            teams_scores[away_team] = 0\n",
    "        if away_team not in goal_diff:\n",
    "            goal_diff[away_team] = 0\n",
    "        \n",
    "        goal_diff[home_team] += (home_team_goals - away_team_goals)\n",
    "        goal_diff[away_team] += (away_team_goals - home_team_goals)\n",
    "        \n",
    "        if result == 'H':\n",
    "            teams_scores[home_team] += 3\n",
    "        elif result == 'A':\n",
    "            teams_scores[away_team] += 3\n",
    "        elif result == 'D':\n",
    "            teams_scores[home_team] += 1\n",
    "            teams_scores[away_team] += 1\n",
    "\n",
    "    max_score = max(teams_scores.values())\n",
    "    teams_with_max_scores = {k:v for k,v in teams_scores.items() if v == max_score}\n",
    "    if len(teams_with_max_scores) == 1:\n",
    "        champions[season] = list(teams_with_max_scores.keys())[0]\n",
    "    else:\n",
    "        team1 = list(teams_with_max_scores.keys())[0]\n",
    "        team2 = list(teams_with_max_scores.keys())[1]\n",
    "        \n",
    "        result_1v2 = matches_in_current_season.loc[(matches_in_current_season['HomeTeam'] == team1) & (matches_in_current_season['AwayTeam'] == team2)].iloc[0]['FTR']\n",
    "        result_2v1 = matches_in_current_season.loc[(matches_in_current_season['HomeTeam'] == team2) & (matches_in_current_season['AwayTeam'] == team1)].iloc[0]['FTR']\n",
    "        \n",
    "        \n",
    "        if result_1v2 == 'H' and result_2v1 in ['A', 'D']:\n",
    "            champions[season] = team1\n",
    "        elif result_1v2 == 'A' and result_2v1 in ['H', 'D']:\n",
    "            champions[season] = team2\n",
    "        else:\n",
    "            # use goal difference\n",
    "            if goal_diff[team1] >= goal_diff[team2]:\n",
    "                champions[season] = team1\n",
    "            else:\n",
    "                champions[season] = team2"
   ]
  },
  {
   "cell_type": "markdown",
   "id": "8a2eaf9d",
   "metadata": {},
   "source": [
    "Create a dictionary of number of times each team won the league:"
   ]
  },
  {
   "cell_type": "code",
   "execution_count": 148,
   "id": "e26d4964",
   "metadata": {},
   "outputs": [],
   "source": [
    "champions_count = {}\n",
    "for team in champions.values():\n",
    "    if team not in champions_count:\n",
    "        champions_count[team] = 1\n",
    "    else:\n",
    "        champions_count[team] += 1"
   ]
  },
  {
   "cell_type": "markdown",
   "id": "1bcb3c1e",
   "metadata": {},
   "source": [
    "Convert the result to numpy array, and sort it based on wins:"
   ]
  },
  {
   "cell_type": "code",
   "execution_count": 149,
   "id": "f5b07fdb",
   "metadata": {},
   "outputs": [],
   "source": [
    "champions_count_array = np.array(list(champions_count.items()), dtype=[('team', 'object'), ('wins', 'int')])\n",
    "champions_count_array[::-1].sort(order = 'wins')"
   ]
  },
  {
   "cell_type": "markdown",
   "id": "0d248ced",
   "metadata": {},
   "source": [
    "Finally, plot the results:"
   ]
  },
  {
   "cell_type": "code",
   "execution_count": 150,
   "id": "d7eca62c",
   "metadata": {},
   "outputs": [
    {
     "data": {
      "image/png": "[encoded data removed]",
      "text/plain": [
       "<Figure size 504x504 with 1 Axes>"
      ]
     },
     "metadata": {
      "needs_background": "light"
     },
     "output_type": "display_data"
    }
   ],
   "source": [
    "plt.figure(figsize = (7, 7))\n",
    "plt.xticks(range(len(champions_count_array)), champions_count_array['team'])\n",
    "plt.bar(range(len(champions_count_array)), champions_count_array['wins'])\n",
    "plt.show()"
   ]
  },
  {
   "cell_type": "code",
   "execution_count": 151,
   "id": "d1a69f54",
   "metadata": {},
   "outputs": [
    {
     "data": {
      "image/png": "[encoded data removed]",
      "text/plain": [
       "<Figure size 504x504 with 1 Axes>"
      ]
     },
     "metadata": {},
     "output_type": "display_data"
    }
   ],
   "source": [
    "plt.figure(figsize = (7,7))\n",
    "plt.pie(champions_count_array['wins'], labels=champions_count_array['team'])\n",
    "plt.show()"
   ]
  }
 ],
 "metadata": {
  "kernelspec": {
   "display_name": "Python 3 (ipykernel)",
   "language": "python",
   "name": "python3"
  },
  "language_info": {
   "codemirror_mode": {
    "name": "ipython",
    "version": 3
   },
   "file_extension": ".py",
   "mimetype": "text/x-python",
   "name": "python",
   "nbconvert_exporter": "python",
   "pygments_lexer": "ipython3",
   "version": "3.9.7"
  }
 },
 "nbformat": 4,
 "nbformat_minor": 5
}
