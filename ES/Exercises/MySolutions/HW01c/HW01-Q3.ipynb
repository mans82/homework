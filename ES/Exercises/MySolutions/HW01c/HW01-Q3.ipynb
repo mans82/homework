{
 "cells": [
  {
   "cell_type": "markdown",
   "id": "7cfc84f7",
   "metadata": {},
   "source": [
    "# Question 3\n",
    "*Amir Hossein Mansoori - 99243069*\n",
    "\n",
    "Import required modules:"
   ]
  },
  {
   "cell_type": "code",
   "execution_count": 2,
   "id": "ea6040b9",
   "metadata": {},
   "outputs": [],
   "source": [
    "import pandas as pd\n",
    "import matplotlib.pyplot as plt"
   ]
  },
  {
   "cell_type": "markdown",
   "id": "15a7113f",
   "metadata": {},
   "source": [
    "Load the dataset:"
   ]
  },
  {
   "cell_type": "code",
   "execution_count": 3,
   "id": "d10fcc14",
   "metadata": {},
   "outputs": [],
   "source": [
    "laliga_matches = pd.read_csv('LaLiga_Matches_1995-2021.csv')"
   ]
  },
  {
   "cell_type": "markdown",
   "id": "039305d6",
   "metadata": {},
   "source": [
    "Store number of matches in which one of the teams were ahead by 2 goals, and number of those where the ahead team actually won the match:"
   ]
  },
  {
   "cell_type": "code",
   "execution_count": 4,
   "id": "8ee1b4ea",
   "metadata": {},
   "outputs": [],
   "source": [
    "total_matches_with_2_goals_ahead = 0\n",
    "matches_won_with_2_goals_ahead = 0"
   ]
  },
  {
   "cell_type": "markdown",
   "id": "145ec65a",
   "metadata": {},
   "source": [
    "Then check every match:"
   ]
  },
  {
   "cell_type": "code",
   "execution_count": 5,
   "id": "d7473f55",
   "metadata": {},
   "outputs": [],
   "source": [
    "for index, row in laliga_matches.iterrows():\n",
    "    home_first_half_goals = row['HTHG']\n",
    "    away_first_half_goals = row['HTAG']\n",
    "    result = row['FTR']\n",
    "    \n",
    "    if abs(home_first_half_goals - away_first_half_goals) != 2:\n",
    "        continue\n",
    "    \n",
    "    total_matches_with_2_goals_ahead += 1\n",
    "    \n",
    "    if (result == 'H' and home_first_half_goals - away_first_half_goals == 2) or (result == 'A' and away_first_half_goals - home_first_half_goals == 2):\n",
    "        matches_won_with_2_goals_ahead += 1"
   ]
  },
  {
   "cell_type": "markdown",
   "id": "755a1a37",
   "metadata": {},
   "source": [
    "Finally, dividing these two numbers should yield the asked probability:"
   ]
  },
  {
   "cell_type": "code",
   "execution_count": 7,
   "id": "ceae76a5",
   "metadata": {},
   "outputs": [
    {
     "name": "stdout",
     "output_type": "stream",
     "text": [
      "91.07438016528926%\n"
     ]
    }
   ],
   "source": [
    "print(f\"{(matches_won_with_2_goals_ahead / total_matches_with_2_goals_ahead) * 100}%\")"
   ]
  },
  {
   "cell_type": "markdown",
   "id": "409fe276",
   "metadata": {},
   "source": [
    "which is pretty high!"
   ]
  }
 ],
 "metadata": {
  "kernelspec": {
   "display_name": "Python 3 (ipykernel)",
   "language": "python",
   "name": "python3"
  },
  "language_info": {
   "codemirror_mode": {
    "name": "ipython",
    "version": 3
   },
   "file_extension": ".py",
   "mimetype": "text/x-python",
   "name": "python",
   "nbconvert_exporter": "python",
   "pygments_lexer": "ipython3",
   "version": "3.9.7"
  }
 },
 "nbformat": 4,
 "nbformat_minor": 5
}
