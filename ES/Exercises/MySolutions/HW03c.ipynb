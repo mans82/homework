{
 "cells": [
  {
   "cell_type": "markdown",
   "id": "e8181867",
   "metadata": {},
   "source": [
    "# Engineering Statistics\n",
    "### Amir Hossein Mansoori - 99243069 - Computer Assignment #03\n"
   ]
  },
  {
   "cell_type": "markdown",
   "id": "b70ca7b3",
   "metadata": {},
   "source": [
    "First of all, we import required modules:"
   ]
  },
  {
   "cell_type": "code",
   "execution_count": 53,
   "id": "95c54ee6",
   "metadata": {},
   "outputs": [],
   "source": [
    "import pandas as pd\n",
    "import scipy.stats\n",
    "from math import sqrt"
   ]
  },
  {
   "cell_type": "markdown",
   "id": "2f0f41cf",
   "metadata": {},
   "source": [
    "## Question 1"
   ]
  },
  {
   "cell_type": "markdown",
   "id": "18d6d8a5",
   "metadata": {},
   "source": [
    "Import the dataset:"
   ]
  },
  {
   "cell_type": "code",
   "execution_count": 54,
   "id": "3e097449",
   "metadata": {},
   "outputs": [],
   "source": [
    "df = pd.read_csv('file.csv')"
   ]
  },
  {
   "cell_type": "markdown",
   "id": "5044833f",
   "metadata": {},
   "source": [
    "Calculate mean and standard deviation:"
   ]
  },
  {
   "cell_type": "code",
   "execution_count": 55,
   "id": "93ab55a5",
   "metadata": {},
   "outputs": [],
   "source": [
    "mean = df['eval'].mean()\n",
    "std = df['eval'].std()"
   ]
  },
  {
   "cell_type": "markdown",
   "id": "d9659323",
   "metadata": {},
   "source": [
    "Define a new function to normalize its input value, so we can pass it to the standard normal distribution CDF:"
   ]
  },
  {
   "cell_type": "code",
   "execution_count": 56,
   "id": "b4f2e763",
   "metadata": {},
   "outputs": [],
   "source": [
    "def normalized(x, mean, std):\n",
    "    return (x - mean) / std"
   ]
  },
  {
   "cell_type": "markdown",
   "id": "d0130ef4",
   "metadata": {},
   "source": [
    "Finally, calculate the probablity. We need to calculate $F_{x}(4.2) - F_{x}(3.5)$:"
   ]
  },
  {
   "cell_type": "code",
   "execution_count": 57,
   "id": "9167acde",
   "metadata": {},
   "outputs": [
    {
     "name": "stdout",
     "output_type": "stream",
     "text": [
      "Probability of receiving a grade in range (3.5, 4.2) is 45.73%.\n"
     ]
    }
   ],
   "source": [
    "grade_lower = 3.5\n",
    "grade_higher = 4.2\n",
    "\n",
    "p_lower = scipy.stats.norm.cdf(normalized(grade_lower, mean, std))\n",
    "p_higher = scipy.stats.norm.cdf(normalized(grade_higher, mean, std))\n",
    "\n",
    "print(f\"Probability of receiving a grade in range ({grade_lower}, {grade_higher}) is {round(p_higher - p_lower, 4) * 100}%.\")"
   ]
  },
  {
   "cell_type": "markdown",
   "id": "6a0f9ab4",
   "metadata": {},
   "source": [
    "## Question 2"
   ]
  },
  {
   "cell_type": "markdown",
   "id": "4c96d7f8",
   "metadata": {},
   "source": [
    "We need to calculate $P(X > 3.3) = 1 - P(X < 3.3) = 1 - F_{x}(3.3)$"
   ]
  },
  {
   "cell_type": "code",
   "execution_count": 58,
   "id": "5c506137",
   "metadata": {},
   "outputs": [
    {
     "name": "stdout",
     "output_type": "stream",
     "text": [
      "Probability of receiving a grade higher than 3.3 is 89.59%.\n"
     ]
    }
   ],
   "source": [
    "grade = 3.3\n",
    "\n",
    "p_less = scipy.stats.norm.cdf(normalized(grade, mean, std))\n",
    "p_more = 1 - p_less\n",
    "\n",
    "print(f\"Probability of receiving a grade higher than {grade} is {round(p_more, 4) * 100}%.\")"
   ]
  },
  {
   "cell_type": "markdown",
   "id": "c46ed80f",
   "metadata": {},
   "source": [
    "## Question 3"
   ]
  },
  {
   "cell_type": "markdown",
   "id": "6f0876bf",
   "metadata": {},
   "source": [
    "Just like question 1, we need to calculate $F_{x}(3) - F_{x}(2)$:"
   ]
  },
  {
   "cell_type": "code",
   "execution_count": 59,
   "id": "37663190",
   "metadata": {},
   "outputs": [
    {
     "name": "stdout",
     "output_type": "stream",
     "text": [
      "Probability of receiving a grade in range (2, 3) is 3.58%.\n"
     ]
    }
   ],
   "source": [
    "grade_lower = 2\n",
    "grade_higher = 3\n",
    "\n",
    "p_lower = scipy.stats.norm.cdf(normalized(grade_lower, mean, std))\n",
    "p_higher = scipy.stats.norm.cdf(normalized(grade_higher, mean, std))\n",
    "\n",
    "print(f\"Probability of receiving a grade in range ({grade_lower}, {grade_higher}) is {round(p_higher - p_lower, 4) * 100}%.\")"
   ]
  },
  {
   "cell_type": "markdown",
   "id": "e75cca06",
   "metadata": {},
   "source": [
    "## Question 4"
   ]
  },
  {
   "cell_type": "markdown",
   "id": "3e16c1a2",
   "metadata": {},
   "source": [
    "First, we should create a `DataFrame`, and initialize it with given values:"
   ]
  },
  {
   "cell_type": "code",
   "execution_count": 60,
   "id": "858d1b8b",
   "metadata": {},
   "outputs": [],
   "source": [
    "df = pd.DataFrame(data=[116, 111, 101, 120, 99, 94, 106, 115, 107, 101, 110, 92])\n",
    "est_mean = df[0].mean()\n",
    "est_std = df[0].std()\n",
    "n = df[0].count()"
   ]
  },
  {
   "cell_type": "markdown",
   "id": "59d8ad43",
   "metadata": {},
   "source": [
    "Then we define a normalizing function to be used for Z-Test:"
   ]
  },
  {
   "cell_type": "code",
   "execution_count": 61,
   "id": "7e120406",
   "metadata": {},
   "outputs": [],
   "source": [
    "def normalize_z_test(x, mean, std, n):\n",
    "    return (x - mean) / (std / sqrt(n))"
   ]
  },
  {
   "cell_type": "markdown",
   "id": "3a61b6c0",
   "metadata": {},
   "source": [
    "We choose $\\alpha = 0.05$ for the test. Because $H_{a}: \\mu > 100$, we should consider the right tail for the test. The p-value will then be equal to $1 - \\phi(z)$:"
   ]
  },
  {
   "cell_type": "code",
   "execution_count": 62,
   "id": "dd3de8dd",
   "metadata": {},
   "outputs": [
    {
     "name": "stdout",
     "output_type": "stream",
     "text": [
      "P-value: 0.009301\n",
      "Thus, null-hypothesis can be rejected (with 95.0% confidence): People sleeping for more at least 8 hours are actually smarter.\n"
     ]
    }
   ],
   "source": [
    "p_value = 1 - scipy.stats.norm.cdf(normalize_z_test(est_mean, 100, est_std, n))\n",
    "alpha_threshold = 0.05\n",
    "\n",
    "print(f\"P-value: {round(p_value, 6)}\")\n",
    "\n",
    "if p_value < alpha_threshold:\n",
    "    print(f\"Thus, null-hypothesis can be rejected (with {round(1 - alpha_threshold, 4) * 100}% confidence): People sleeping for more at least 8 hours are actually smarter.\")\n",
    "else:\n",
    "    print(f\"We cannot reject the null hypothesis: There is no significant difference in IQ levels of those who sleep properly, and those who do not.\")"
   ]
  },
  {
   "cell_type": "markdown",
   "id": "547e4a70",
   "metadata": {},
   "source": [
    "## Question 5"
   ]
  },
  {
   "cell_type": "markdown",
   "id": "a2a6f486",
   "metadata": {},
   "source": [
    "Import required module(s):"
   ]
  },
  {
   "cell_type": "code",
   "execution_count": 64,
   "id": "f5757724",
   "metadata": {},
   "outputs": [],
   "source": [
    "from scipy.stats import poisson"
   ]
  },
  {
   "cell_type": "markdown",
   "id": "85ac84a5",
   "metadata": {},
   "source": [
    "**Part 1**: We need to calculate $f_{x}(0)$:"
   ]
  },
  {
   "cell_type": "code",
   "execution_count": 78,
   "id": "585bc167",
   "metadata": {
    "scrolled": true
   },
   "outputs": [
    {
     "name": "stdout",
     "output_type": "stream",
     "text": [
      "Probability of arriving 0 jobs in one minute is 13.530000000000001%.\n"
     ]
    }
   ],
   "source": [
    "lambda_val = 2\n",
    "k = 0\n",
    "p = poisson.pmf(k, lambda_val)\n",
    "print(f\"Probability of arriving {k} job{'s' if k != 1 else ''} in one minute is {round(p, 4) * 100}%.\")"
   ]
  },
  {
   "cell_type": "markdown",
   "id": "456b69b6",
   "metadata": {},
   "source": [
    "*Apparently, a minor floating-point rounding error has happened above :)*"
   ]
  },
  {
   "cell_type": "markdown",
   "id": "c7286b7d",
   "metadata": {},
   "source": [
    "**Part 2**: Just like part 1:"
   ]
  },
  {
   "cell_type": "code",
   "execution_count": 77,
   "id": "7f51e535",
   "metadata": {},
   "outputs": [
    {
     "name": "stdout",
     "output_type": "stream",
     "text": [
      "Probability of arriving 1 job in one minute is 27.07%.\n"
     ]
    }
   ],
   "source": [
    "k = 1\n",
    "p = poisson.pmf(k, lambda_val)\n",
    "print(f\"Probability of arriving {k} job{'s' if k != 1 else ''} in one minute is {round(p, 4) * 100}%.\")"
   ]
  },
  {
   "cell_type": "markdown",
   "id": "310a63de",
   "metadata": {},
   "source": [
    "**Part 3**: We need to calculate $F_{x}(3)$:"
   ]
  },
  {
   "cell_type": "code",
   "execution_count": 79,
   "id": "69f28bd3",
   "metadata": {},
   "outputs": [
    {
     "name": "stdout",
     "output_type": "stream",
     "text": [
      "Probability of arriving at most 3 jobs in one minute is 85.71%.\n"
     ]
    }
   ],
   "source": [
    "k = 3\n",
    "p = poisson.cdf(k, lambda_val)\n",
    "print(f\"Probability of arriving at most {k} job{'s' if k != 1 else ''} in one minute is {round(p, 4) * 100}%.\")"
   ]
  }
 ],
 "metadata": {
  "kernelspec": {
   "display_name": "Python 3 (ipykernel)",
   "language": "python",
   "name": "python3"
  },
  "language_info": {
   "codemirror_mode": {
    "name": "ipython",
    "version": 3
   },
   "file_extension": ".py",
   "mimetype": "text/x-python",
   "name": "python",
   "nbconvert_exporter": "python",
   "pygments_lexer": "ipython3",
   "version": "3.10.1"
  }
 },
 "nbformat": 4,
 "nbformat_minor": 5
}
